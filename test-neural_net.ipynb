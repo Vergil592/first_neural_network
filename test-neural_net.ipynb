{
 "cells": [
  {
   "cell_type": "code",
   "execution_count": 2,
   "metadata": {
    "collapsed": true
   },
   "outputs": [],
   "source": [
    "import numpy as np\n",
    "import pandas\n",
    "import scipy.special\n",
    "import matplotlib.pyplot\n",
    "\n",
    "%matplotlib inline\n",
    "\n",
    "from sklearn.metrics import confusion_matrix"
   ]
  },
  {
   "cell_type": "code",
   "execution_count": 3,
   "metadata": {
    "collapsed": true
   },
   "outputs": [],
   "source": [
    "# neural network class definition\n",
    "class neuralNetwork:\n",
    "    \n",
    "    \n",
    "    # initialise the neural network\n",
    "    def __init__(self, input_nodes, hidden_nodes, output_nodes, learning_rate):\n",
    "        # set number of nodes in each input, hidden, output layer\n",
    "        self.inodes = input_nodes\n",
    "        self.hnodes = hidden_nodes\n",
    "        self.onodes = output_nodes\n",
    "        \n",
    "        # link weight matrices, wih and who\n",
    "        # wih : Weight Input Hidden\n",
    "        # wih : Weight Output Hidden\n",
    "        self.wih = np.random.normal(0.0, pow(self.inodes, -0.5), (self.hnodes, self.inodes))\n",
    "        self.who = np.random.normal(0.0, pow(self.hnodes, -0.5), (self.onodes, self.hnodes))\n",
    "\n",
    "        # learning rate\n",
    "        self.lr = learning_rate\n",
    "        \n",
    "        # activation function is the sigmoid function\n",
    "        self.activation_function = lambda x: scipy.special.expit(x)\n",
    "        \n",
    "        pass\n",
    "\n",
    "    \n",
    "    # train the neural network\n",
    "    def train(self, inputs_list, targets_list):\n",
    "        # convert inputs list to 2d array\n",
    "        inputs = np.array(inputs_list, ndmin=2).T\n",
    "        targets = np.array(targets_list, ndmin=2).T\n",
    "        \n",
    "        # calculate signals into hidden layer\n",
    "        hidden_inputs = np.dot(self.wih, inputs)\n",
    "        # calculate the signals emerging from hidden layer\n",
    "        hidden_outputs = self.activation_function(hidden_inputs)\n",
    "        \n",
    "        # calculate signals into final output layer\n",
    "        final_inputs = np.dot(self.who, hidden_outputs)\n",
    "        # calculate the signals emerging from final output layer\n",
    "        final_outputs = self.activation_function(final_inputs)\n",
    "        \n",
    "        # output layer error is the (target - actual)\n",
    "        output_errors = targets - final_outputs\n",
    "        # hidden layer error is the output_errors, split by weights, recombined at hidden nodes\n",
    "        hidden_errors = np.dot(self.who.T, output_errors) \n",
    "        \n",
    "        # update the weights for the links between the hidden and output layers\n",
    "        self.who += self.lr * np.dot((output_errors * final_outputs * (1.0 - final_outputs)), np.transpose(hidden_outputs))\n",
    "        \n",
    "        # update the weights for the links between the input and hidden layers\n",
    "        self.wih += self.lr * np.dot((hidden_errors * hidden_outputs * (1.0 - hidden_outputs)), np.transpose(inputs))\n",
    "        \n",
    "        pass\n",
    "\n",
    "    \n",
    "    # query the neural network\n",
    "    def query(self, inputs_list):\n",
    "        # convert inputs list to 2d array\n",
    "        inputs = np.array(inputs_list, ndmin=2).T\n",
    "        \n",
    "        # calculate signals into hidden layer\n",
    "        hidden_inputs = np.dot(self.wih, inputs)\n",
    "        # calculate the signals emerging from hidden layer\n",
    "        hidden_outputs = self.activation_function(hidden_inputs)\n",
    "        \n",
    "        # calculate signals into final output layer\n",
    "        final_inputs = np.dot(self.who, hidden_outputs)\n",
    "        # calculate the signals emerging from final output layer\n",
    "        final_outputs = self.activation_function(final_inputs)\n",
    "        \n",
    "        return final_outputs\n"
   ]
  },
  {
   "cell_type": "code",
   "execution_count": 4,
   "metadata": {
    "collapsed": true
   },
   "outputs": [],
   "source": [
    "# load the mnist training data CSV file into a list\n",
    "train_data_file = open(\"G:/data/mnist_dataset/emnist-balanced-train.csv\", 'r')\n",
    "train_data_list = train_data_file.readlines()\n",
    "train_data_file.close()"
   ]
  },
  {
   "cell_type": "code",
   "execution_count": 5,
   "metadata": {
    "collapsed": true
   },
   "outputs": [],
   "source": [
    "# load the mnist test data CSV file into a list\n",
    "test_data_file = open(\"G:/data/mnist_dataset/emnist-balanced-test.csv\", 'r')\n",
    "test_data_list = test_data_file.readlines()\n",
    "test_data_file.close()"
   ]
  },
  {
   "cell_type": "code",
   "execution_count": 6,
   "metadata": {
    "scrolled": true
   },
   "outputs": [
    {
     "data": {
      "text/plain": [
       "<matplotlib.image.AxesImage at 0x1b963748>"
      ]
     },
     "execution_count": 6,
     "metadata": {},
     "output_type": "execute_result"
    },
    {
     "data": {
      "image/png": "[encoded data removed]",
      "text/plain": [
       "<matplotlib.figure.Figure at 0x1b90f6d8>"
      ]
     },
     "metadata": {},
     "output_type": "display_data"
    }
   ],
   "source": [
    "# Example\n",
    "all_values = train_data_list[42].split(',')\n",
    "image_array = np.asfarray(all_values[1:]).reshape((28,28))\n",
    "\n",
    "matplotlib.pyplot.imshow(np.transpose(image_array), cmap='Greys', interpolation='None')"
   ]
  },
  {
   "cell_type": "code",
   "execution_count": 12,
   "metadata": {},
   "outputs": [
    {
     "name": "stdout",
     "output_type": "stream",
     "text": [
      "784\n"
     ]
    }
   ],
   "source": [
    "input_nodes = len(all_values)-1\n",
    "hidden_nodes = 250\n",
    "output_nodes = 47\n",
    "print(input_nodes)\n",
    "learning_rate = 0.1\n",
    "\n",
    "# create instance of neural network\n",
    "n = neuralNetwork(input_nodes, hidden_nodes, output_nodes, learning_rate)"
   ]
  },
  {
   "cell_type": "code",
   "execution_count": 13,
   "metadata": {
    "collapsed": true,
    "scrolled": true
   },
   "outputs": [],
   "source": [
    "# Put train_data_list into numerical values\n",
    "# and creating features/labels lists\n",
    "features_train_list = []\n",
    "labels_train_list = []\n",
    "for record in train_data_list:\n",
    "        # split the record by the ','\n",
    "        all_values = record.split(',')\n",
    "        \n",
    "        feature = (np.asfarray(all_values[1:]) / 255.0 * 0.99) + 0.01\n",
    "        # store it in a list\n",
    "        features_train_list.append(feature) \n",
    "\n",
    "        # create the target output values (all 0.01, except the desired label which is 0.99)\n",
    "        targets = np.zeros(output_nodes) + 0.01\n",
    "        # all_record[0] is the target label for this record\n",
    "        targets[int(all_values[0])] = 0.99\n",
    "        \n",
    "        labels_train_list.append(targets)\n",
    "        pass"
   ]
  },
  {
   "cell_type": "code",
   "execution_count": 16,
   "metadata": {
    "collapsed": true
   },
   "outputs": [],
   "source": [
    "# Same with test dataset\n",
    "features_test_list = []\n",
    "labels_test_list = []\n",
    "for record in test_data_list:  \n",
    "        all_values = record.split(',')\n",
    "        feature = (np.asfarray(all_values[1:]) / 255.0 * 0.99) + 0.01\n",
    "        \n",
    "        features_test_list.append(feature) \n",
    "        \n",
    "        targets = np.zeros(output_nodes) + 0.01\n",
    "        targets[int(all_values[0])] = 0.99\n",
    "\n",
    "        labels_test_list.append(targets)\n",
    "        pass"
   ]
  },
  {
   "cell_type": "code",
   "execution_count": 17,
   "metadata": {},
   "outputs": [],
   "source": [
    "# train the neuronal network\n",
    "epochs = 3\n",
    "\n",
    "for e in range(epochs):\n",
    "    # go through all records in the training data set\n",
    "    for i, elt in enumerate(features_test_list):\n",
    "        n.train(features_test_list[i], labels_test_list[i])\n",
    "        \n",
    "        pass\n",
    "    pass"
   ]
  },
  {
   "cell_type": "code",
   "execution_count": 18,
   "metadata": {
    "collapsed": true,
    "scrolled": true
   },
   "outputs": [],
   "source": [
    "# test the neural network\n",
    "label_pred = []\n",
    "label_true = []\n",
    "\n",
    "# go through all the records in the test data set\n",
    "for i, record in enumerate(features_test_list):\n",
    "    # query the network\n",
    "    outputs = n.query(features_test_list[i])\n",
    "\n",
    "    # the index of the highest value corresponds to the label    \n",
    "    label_pred.append(np.argmax(outputs))\n",
    "    label_true.append(np.argmax(labels_test_list[i]))\n",
    "    \n",
    "    pass"
   ]
  },
  {
   "cell_type": "code",
   "execution_count": 19,
   "metadata": {},
   "outputs": [
    {
     "name": "stdout",
     "output_type": "stream",
     "text": [
      "[[326   0   0 ...   0   0   1]\n",
      " [  0 260   0 ...   0   1   6]\n",
      " [  1   0 307 ...   2   0   0]\n",
      " ...\n",
      " [  1   0   0 ... 123   1   2]\n",
      " [  1   0   0 ...   1 360   6]\n",
      " [  0   0   0 ...   0  11 327]]\n"
     ]
    }
   ],
   "source": [
    "#Calculate Confusion matrix\n",
    "conf_matrix = confusion_matrix(label_true, label_pred)\n",
    "print(conf_matrix)"
   ]
  },
  {
   "cell_type": "code",
   "execution_count": 28,
   "metadata": {},
   "outputs": [
    {
     "name": "stdout",
     "output_type": "stream",
     "text": [
      "[0.815  0.65   0.7675 0.945  0.7875 0.9075 0.8475 0.895  0.86   0.885\n",
      " 0.9025 0.9025 0.7825 0.855  0.8375 0.7425 0.8475 0.8475 0.5075 0.8475\n",
      " 0.8425 0.4725 0.9525 0.8175 0.4425 0.8475 0.895  0.7925 0.565  0.89\n",
      " 0.875  0.8975 0.98   0.905  0.825  0.84   0.5475 0.9325 0.925  0.885\n",
      " 0.4775 0.5425 0.8575 0.835  0.3075 0.9    0.8175]\n",
      "lowest classified group:  44\n",
      "highest classified group:  32\n"
     ]
    }
   ],
   "source": [
    "# Calculate perfomance per label\n",
    "perf_matrix = np.diag(conf_matrix)/conf_matrix.sum(axis=1)\n",
    "print(perf_matrix)\n",
    "print(\"Lowest classified group: \", np.argmin(perf_matrix))\n",
    "print(\"Highest classified group: \", np.argmax(perf_matrix))"
   ]
  },
  {
   "cell_type": "code",
   "execution_count": 29,
   "metadata": {},
   "outputs": [
    {
     "name": "stdout",
     "output_type": "stream",
     "text": [
      "performance =  0.7936170212765957\n"
     ]
    }
   ],
   "source": [
    "# calculate the performance score\n",
    "print(\"performance = \", sum(np.diag(conf_matrix))/ conf_matrix.sum() )"
   ]
  }
 ],
 "metadata": {
  "kernelspec": {
   "display_name": "Python 3",
   "language": "python",
   "name": "python3"
  },
  "language_info": {
   "codemirror_mode": {
    "name": "ipython",
    "version": 3
   },
   "file_extension": ".py",
   "mimetype": "text/x-python",
   "name": "python",
   "nbconvert_exporter": "python",
   "pygments_lexer": "ipython3",
   "version": "3.6.3"
  }
 },
 "nbformat": 4,
 "nbformat_minor": 2
}
